{
 "cells": [
  {
   "cell_type": "code",
   "execution_count": 1,
   "metadata": {},
   "outputs": [
    {
     "ename": "ModuleNotFoundError",
     "evalue": "No module named 'dlib'",
     "output_type": "error",
     "traceback": [
      "\u001b[1;31m---------------------------------------------------------------------------\u001b[0m",
      "\u001b[1;31mModuleNotFoundError\u001b[0m                       Traceback (most recent call last)",
      "Cell \u001b[1;32mIn[1], line 2\u001b[0m\n\u001b[0;32m      1\u001b[0m \u001b[38;5;28;01mimport\u001b[39;00m \u001b[38;5;21;01msubprocess\u001b[39;00m\n\u001b[1;32m----> 2\u001b[0m \u001b[38;5;28;01mimport\u001b[39;00m \u001b[38;5;21;01mdlib\u001b[39;00m\n\u001b[0;32m      3\u001b[0m \u001b[38;5;28;01mfrom\u001b[39;00m \u001b[38;5;21;01mmath\u001b[39;00m \u001b[38;5;28;01mimport\u001b[39;00m hypot\n\u001b[0;32m      4\u001b[0m \u001b[38;5;28;01mimport\u001b[39;00m \u001b[38;5;21;01mpyautogui\u001b[39;00m\n",
      "\u001b[1;31mModuleNotFoundError\u001b[0m: No module named 'dlib'"
     ]
    }
   ],
   "source": [
    "import subprocess\n",
    "import dlib\n",
    "from math import hypot\n",
    "import pyautogui\n",
    "import cv2"
   ]
  },
  {
   "cell_type": "code",
   "execution_count": 3,
   "metadata": {},
   "outputs": [],
   "source": [
    "\n",
    "\n",
    "def get_blinking_ratio(eye_points, facial_landmarks):\n",
    "    left_point = (facial_landmarks.part(eye_points[0]).x, facial_landmarks.part(eye_points[0]).y)\n",
    "    right_point = (facial_landmarks.part(eye_points[3]).x, facial_landmarks.part(eye_points[3]).y)\n",
    "    center_top = midpoint(facial_landmarks.part(eye_points[1]).x, facial_landmarks.part(eye_points[1]).y,\n",
    "                          facial_landmarks.part(eye_points[2]).x, facial_landmarks.part(eye_points[2]).y)\n",
    "    center_bottom = midpoint(facial_landmarks.part(eye_points[5]).x, facial_landmarks.part(eye_points[5]).y,\n",
    "                             facial_landmarks.part(eye_points[4]).x, facial_landmarks.part(eye_points[4]).y)\n",
    "\n",
    "    hor_line_length = hypot((left_point[0] - right_point[0]), (left_point[1] - right_point[1]))\n",
    "    ver_line_length = hypot((center_top[0] - center_bottom[0]), (center_top[1] - center_bottom[1]))\n",
    "    ratio = hor_line_length / ver_line_length\n",
    "    return ratio\n",
    "\n",
    "def midpoint(x1, y1, x2, y2):\n",
    "    return int((x1 + x2) / 2), int((y1 + y2) / 2)\n",
    "\n",
    "cap = cv2.VideoCapture(2)  # Change the device index to 2\n",
    "detector = dlib.get_frontal_face_detector()\n",
    "predictor = dlib.shape_predictor(\"shape_predictor_68_face_landmarks.dat\")\n",
    "\n",
    "font = cv2.FONT_HERSHEY_SIMPLEX\n",
    "blink_counter = 0\n",
    "\n",
    "while True:\n",
    "    ret, frame = cap.read()\n",
    "    frame = cv2.flip(frame, 1)\n",
    "    gray = cv2.cvtColor(frame, cv2.COLOR_BGR2GRAY)\n",
    "\n",
    "    faces = detector(gray)\n",
    "    for face in faces:\n",
    "        landmarks = predictor(gray, face)\n",
    "\n",
    "        # Check if the face is yours based on specific landmarks or ratios\n",
    "        \n",
    "        # Eye gaze tracking\n",
    "        left_eye_ratio = get_blinking_ratio([36, 37, 38, 39, 40, 41], landmarks)\n",
    "        right_eye_ratio = get_blinking_ratio([42, 43, 44, 45, 46, 47], landmarks)\n",
    "        blinking_ratio = (left_eye_ratio + right_eye_ratio) / 2\n",
    "\n",
    "        if blinking_ratio > 5.0:  # Adjust the blinking ratio threshold as needed\n",
    "            blink_counter += 1\n",
    "\n",
    "        # Simulate a click if blink detected\n",
    "        if blink_counter > 2:  # Adjust the blink counter threshold as needed\n",
    "            pyautogui.click()\n",
    "            cv2.putText(frame, \"CLICK\", (50, 150), font, 3, (0, 255, 0))\n",
    "            blink_counter = 0\n",
    "\n",
    "        # Calculate cursor position based on eye gaze\n",
    "        left_eye_center = (landmarks.part(36).x, landmarks.part(36).y)\n",
    "        right_eye_center = (landmarks.part(39).x, landmarks.part(39).y)\n",
    "        cursor = midpoint(left_eye_center[0], left_eye_center[1], right_eye_center[0], right_eye_center[1])\n",
    "        cursor_x, cursor_y = cursor\n",
    "\n",
    "        # Smooth cursor movement\n",
    "        pyautogui.moveTo(cursor_x * 2, cursor_y * 2, duration=0.15)\n",
    "\n",
    "        cv2.circle(frame, cursor, 10, (255, 0, 0), -1)\n",
    "\n",
    "    cv2.imshow(\"Eye Tracking\", frame)\n",
    "\n",
    "    key = cv2.waitKey(1)\n",
    "    if key == 27:\n",
    "        break\n",
    "\n",
    "cap.release()\n",
    "cv2.destroyAllWindows()\n"
   ]
  },
  {
   "cell_type": "code",
   "execution_count": null,
   "metadata": {},
   "outputs": [],
   "source": []
  }
 ],
 "metadata": {
  "kernelspec": {
   "display_name": "Python 3",
   "language": "python",
   "name": "python3"
  },
  "language_info": {
   "codemirror_mode": {
    "name": "ipython",
    "version": 3
   },
   "file_extension": ".py",
   "mimetype": "text/x-python",
   "name": "python",
   "nbconvert_exporter": "python",
   "pygments_lexer": "ipython3",
   "version": "3.10.11"
  }
 },
 "nbformat": 4,
 "nbformat_minor": 2
}
